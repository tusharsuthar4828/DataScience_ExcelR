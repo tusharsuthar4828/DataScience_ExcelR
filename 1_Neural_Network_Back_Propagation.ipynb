{
  "nbformat": 4,
  "nbformat_minor": 0,
  "metadata": {
    "kernelspec": {
      "display_name": "Python 3",
      "language": "python",
      "name": "python3"
    },
    "language_info": {
      "codemirror_mode": {
        "name": "ipython",
        "version": 3
      },
      "file_extension": ".py",
      "mimetype": "text/x-python",
      "name": "python",
      "nbconvert_exporter": "python",
      "pygments_lexer": "ipython3",
      "version": "3.7.4"
    },
    "colab": {
      "name": "1.Neural Network_Back Propagation.ipynb",
      "provenance": [],
      "include_colab_link": true
    }
  },
  "cells": [
    {
      "cell_type": "markdown",
      "metadata": {
        "id": "view-in-github",
        "colab_type": "text"
      },
      "source": [
        "<a href=\"https://colab.research.google.com/github/tusharsuthar4828/DataScience_ExcelR/blob/main/1_Neural_Network_Back_Propagation.ipynb\" target=\"_parent\"><img src=\"https://colab.research.google.com/assets/colab-badge.svg\" alt=\"Open In Colab\"/></a>"
      ]
    },
    {
      "cell_type": "code",
      "metadata": {
        "id": "gPQCjnuqiOdy",
        "colab": {
          "base_uri": "https://localhost:8080/"
        },
        "outputId": "982c389a-bca0-46ed-9de3-3ddb6f6ebaa5"
      },
      "source": [
        "!pip install tensorflow"
      ],
      "execution_count": 1,
      "outputs": [
        {
          "output_type": "stream",
          "name": "stdout",
          "text": [
            "Requirement already satisfied: tensorflow in /usr/local/lib/python3.7/dist-packages (2.6.0)\n",
            "Requirement already satisfied: keras~=2.6 in /usr/local/lib/python3.7/dist-packages (from tensorflow) (2.6.0)\n",
            "Requirement already satisfied: clang~=5.0 in /usr/local/lib/python3.7/dist-packages (from tensorflow) (5.0)\n",
            "Requirement already satisfied: six~=1.15.0 in /usr/local/lib/python3.7/dist-packages (from tensorflow) (1.15.0)\n",
            "Requirement already satisfied: astunparse~=1.6.3 in /usr/local/lib/python3.7/dist-packages (from tensorflow) (1.6.3)\n",
            "Requirement already satisfied: google-pasta~=0.2 in /usr/local/lib/python3.7/dist-packages (from tensorflow) (0.2.0)\n",
            "Requirement already satisfied: numpy~=1.19.2 in /usr/local/lib/python3.7/dist-packages (from tensorflow) (1.19.5)\n",
            "Requirement already satisfied: typing-extensions~=3.7.4 in /usr/local/lib/python3.7/dist-packages (from tensorflow) (3.7.4.3)\n",
            "Requirement already satisfied: protobuf>=3.9.2 in /usr/local/lib/python3.7/dist-packages (from tensorflow) (3.17.3)\n",
            "Requirement already satisfied: keras-preprocessing~=1.1.2 in /usr/local/lib/python3.7/dist-packages (from tensorflow) (1.1.2)\n",
            "Requirement already satisfied: tensorboard~=2.6 in /usr/local/lib/python3.7/dist-packages (from tensorflow) (2.6.0)\n",
            "Requirement already satisfied: gast==0.4.0 in /usr/local/lib/python3.7/dist-packages (from tensorflow) (0.4.0)\n",
            "Requirement already satisfied: grpcio<2.0,>=1.37.0 in /usr/local/lib/python3.7/dist-packages (from tensorflow) (1.41.0)\n",
            "Requirement already satisfied: opt-einsum~=3.3.0 in /usr/local/lib/python3.7/dist-packages (from tensorflow) (3.3.0)\n",
            "Requirement already satisfied: tensorflow-estimator~=2.6 in /usr/local/lib/python3.7/dist-packages (from tensorflow) (2.6.0)\n",
            "Requirement already satisfied: termcolor~=1.1.0 in /usr/local/lib/python3.7/dist-packages (from tensorflow) (1.1.0)\n",
            "Requirement already satisfied: absl-py~=0.10 in /usr/local/lib/python3.7/dist-packages (from tensorflow) (0.12.0)\n",
            "Requirement already satisfied: h5py~=3.1.0 in /usr/local/lib/python3.7/dist-packages (from tensorflow) (3.1.0)\n",
            "Requirement already satisfied: wrapt~=1.12.1 in /usr/local/lib/python3.7/dist-packages (from tensorflow) (1.12.1)\n",
            "Requirement already satisfied: flatbuffers~=1.12.0 in /usr/local/lib/python3.7/dist-packages (from tensorflow) (1.12)\n",
            "Requirement already satisfied: wheel~=0.35 in /usr/local/lib/python3.7/dist-packages (from tensorflow) (0.37.0)\n",
            "Requirement already satisfied: cached-property in /usr/local/lib/python3.7/dist-packages (from h5py~=3.1.0->tensorflow) (1.5.2)\n",
            "Requirement already satisfied: setuptools>=41.0.0 in /usr/local/lib/python3.7/dist-packages (from tensorboard~=2.6->tensorflow) (57.4.0)\n",
            "Requirement already satisfied: werkzeug>=0.11.15 in /usr/local/lib/python3.7/dist-packages (from tensorboard~=2.6->tensorflow) (1.0.1)\n",
            "Requirement already satisfied: requests<3,>=2.21.0 in /usr/local/lib/python3.7/dist-packages (from tensorboard~=2.6->tensorflow) (2.23.0)\n",
            "Requirement already satisfied: tensorboard-data-server<0.7.0,>=0.6.0 in /usr/local/lib/python3.7/dist-packages (from tensorboard~=2.6->tensorflow) (0.6.1)\n",
            "Requirement already satisfied: google-auth<2,>=1.6.3 in /usr/local/lib/python3.7/dist-packages (from tensorboard~=2.6->tensorflow) (1.35.0)\n",
            "Requirement already satisfied: tensorboard-plugin-wit>=1.6.0 in /usr/local/lib/python3.7/dist-packages (from tensorboard~=2.6->tensorflow) (1.8.0)\n",
            "Requirement already satisfied: google-auth-oauthlib<0.5,>=0.4.1 in /usr/local/lib/python3.7/dist-packages (from tensorboard~=2.6->tensorflow) (0.4.6)\n",
            "Requirement already satisfied: markdown>=2.6.8 in /usr/local/lib/python3.7/dist-packages (from tensorboard~=2.6->tensorflow) (3.3.4)\n",
            "Requirement already satisfied: rsa<5,>=3.1.4 in /usr/local/lib/python3.7/dist-packages (from google-auth<2,>=1.6.3->tensorboard~=2.6->tensorflow) (4.7.2)\n",
            "Requirement already satisfied: cachetools<5.0,>=2.0.0 in /usr/local/lib/python3.7/dist-packages (from google-auth<2,>=1.6.3->tensorboard~=2.6->tensorflow) (4.2.4)\n",
            "Requirement already satisfied: pyasn1-modules>=0.2.1 in /usr/local/lib/python3.7/dist-packages (from google-auth<2,>=1.6.3->tensorboard~=2.6->tensorflow) (0.2.8)\n",
            "Requirement already satisfied: requests-oauthlib>=0.7.0 in /usr/local/lib/python3.7/dist-packages (from google-auth-oauthlib<0.5,>=0.4.1->tensorboard~=2.6->tensorflow) (1.3.0)\n",
            "Requirement already satisfied: importlib-metadata in /usr/local/lib/python3.7/dist-packages (from markdown>=2.6.8->tensorboard~=2.6->tensorflow) (4.8.1)\n",
            "Requirement already satisfied: pyasn1<0.5.0,>=0.4.6 in /usr/local/lib/python3.7/dist-packages (from pyasn1-modules>=0.2.1->google-auth<2,>=1.6.3->tensorboard~=2.6->tensorflow) (0.4.8)\n",
            "Requirement already satisfied: chardet<4,>=3.0.2 in /usr/local/lib/python3.7/dist-packages (from requests<3,>=2.21.0->tensorboard~=2.6->tensorflow) (3.0.4)\n",
            "Requirement already satisfied: urllib3!=1.25.0,!=1.25.1,<1.26,>=1.21.1 in /usr/local/lib/python3.7/dist-packages (from requests<3,>=2.21.0->tensorboard~=2.6->tensorflow) (1.24.3)\n",
            "Requirement already satisfied: certifi>=2017.4.17 in /usr/local/lib/python3.7/dist-packages (from requests<3,>=2.21.0->tensorboard~=2.6->tensorflow) (2021.5.30)\n",
            "Requirement already satisfied: idna<3,>=2.5 in /usr/local/lib/python3.7/dist-packages (from requests<3,>=2.21.0->tensorboard~=2.6->tensorflow) (2.10)\n",
            "Requirement already satisfied: oauthlib>=3.0.0 in /usr/local/lib/python3.7/dist-packages (from requests-oauthlib>=0.7.0->google-auth-oauthlib<0.5,>=0.4.1->tensorboard~=2.6->tensorflow) (3.1.1)\n",
            "Requirement already satisfied: zipp>=0.5 in /usr/local/lib/python3.7/dist-packages (from importlib-metadata->markdown>=2.6.8->tensorboard~=2.6->tensorflow) (3.6.0)\n"
          ]
        }
      ]
    },
    {
      "cell_type": "code",
      "metadata": {
        "id": "pvBp1oasiOd-",
        "colab": {
          "base_uri": "https://localhost:8080/"
        },
        "outputId": "f7929b69-44e5-4593-dff0-1d808af898c2"
      },
      "source": [
        "!pip install keras"
      ],
      "execution_count": 2,
      "outputs": [
        {
          "output_type": "stream",
          "name": "stdout",
          "text": [
            "Requirement already satisfied: keras in /usr/local/lib/python3.7/dist-packages (2.6.0)\n"
          ]
        }
      ]
    },
    {
      "cell_type": "code",
      "metadata": {
        "id": "67fq_HUhiOd-"
      },
      "source": [
        "# Create your first MLP in Keras\n",
        "from keras.models import Sequential\n",
        "from keras.layers import Dense\n",
        "import numpy"
      ],
      "execution_count": 3,
      "outputs": []
    },
    {
      "cell_type": "code",
      "metadata": {
        "id": "4SGSqH3wiOd_"
      },
      "source": [
        "# fix random seed for reproducibility\n",
        "seed = 7\n",
        "numpy.random.seed(seed)\n",
        "# load pima indians dataset\n",
        "dataset = numpy.loadtxt(\"/content/pima-indians-diabetes.data.csv\", delimiter=\",\")\n",
        "# split into input (X) and output (Y) variables\n",
        "X = dataset[:,0:8]\n",
        "Y = dataset[:,8]\n"
      ],
      "execution_count": 5,
      "outputs": []
    },
    {
      "cell_type": "code",
      "metadata": {
        "id": "ZNUWXgkniOeA"
      },
      "source": [
        "# create model\n",
        "model = Sequential()\n",
        "model.add(Dense(12, input_dim=8,  activation='relu')) #1st layer\n",
        "model.add(Dense(8,  activation='relu')) #2nd layer\n",
        "model.add(Dense(1, activation='sigmoid')) #3rd layer or op layer"
      ],
      "execution_count": 6,
      "outputs": []
    },
    {
      "cell_type": "markdown",
      "metadata": {
        "id": "jQti1G49iOeB"
      },
      "source": [
        "![image.png](attachment:image.png)"
      ]
    },
    {
      "cell_type": "code",
      "metadata": {
        "id": "y69e5XcziOeB"
      },
      "source": [
        "# Compile model\n",
        "model.compile(loss='binary_crossentropy', optimizer='adam', metrics=['accuracy'])"
      ],
      "execution_count": 7,
      "outputs": []
    },
    {
      "cell_type": "markdown",
      "metadata": {
        "id": "PKl-lm1R05sN"
      },
      "source": [
        ""
      ]
    },
    {
      "cell_type": "markdown",
      "metadata": {
        "id": "SP54Jt4h05oB"
      },
      "source": [
        ""
      ]
    },
    {
      "cell_type": "code",
      "metadata": {
        "colab": {
          "base_uri": "https://localhost:8080/"
        },
        "id": "K4jRK21h1mLd",
        "outputId": "79b7c42b-6247-4198-cc71-26a297234d5d"
      },
      "source": [
        "768*0.67"
      ],
      "execution_count": 8,
      "outputs": [
        {
          "output_type": "execute_result",
          "data": {
            "text/plain": [
              "514.5600000000001"
            ]
          },
          "metadata": {},
          "execution_count": 8
        }
      ]
    },
    {
      "cell_type": "code",
      "metadata": {
        "colab": {
          "base_uri": "https://localhost:8080/"
        },
        "id": "vTEaXcpViOeB",
        "outputId": "25197a96-8eb6-4dea-8a4c-48581f7d45a2"
      },
      "source": [
        "# Fit the model\n",
        "history = model.fit(X, Y, validation_split=0.33, epochs=250, batch_size=10)"
      ],
      "execution_count": 9,
      "outputs": [
        {
          "output_type": "stream",
          "name": "stdout",
          "text": [
            "Epoch 1/250\n",
            "52/52 [==============================] - 1s 4ms/step - loss: 3.3471 - accuracy: 0.5837 - val_loss: 2.5893 - val_accuracy: 0.5669\n",
            "Epoch 2/250\n",
            "52/52 [==============================] - 0s 2ms/step - loss: 2.5016 - accuracy: 0.5720 - val_loss: 2.0663 - val_accuracy: 0.6181\n",
            "Epoch 3/250\n",
            "52/52 [==============================] - 0s 2ms/step - loss: 1.7985 - accuracy: 0.5895 - val_loss: 1.4751 - val_accuracy: 0.6299\n",
            "Epoch 4/250\n",
            "52/52 [==============================] - 0s 2ms/step - loss: 1.4968 - accuracy: 0.5973 - val_loss: 1.3622 - val_accuracy: 0.5551\n",
            "Epoch 5/250\n",
            "52/52 [==============================] - 0s 2ms/step - loss: 1.2361 - accuracy: 0.6070 - val_loss: 0.9679 - val_accuracy: 0.6181\n",
            "Epoch 6/250\n",
            "52/52 [==============================] - 0s 2ms/step - loss: 0.9852 - accuracy: 0.6265 - val_loss: 1.0577 - val_accuracy: 0.6142\n",
            "Epoch 7/250\n",
            "52/52 [==============================] - 0s 2ms/step - loss: 0.9557 - accuracy: 0.6381 - val_loss: 0.8968 - val_accuracy: 0.6496\n",
            "Epoch 8/250\n",
            "52/52 [==============================] - 0s 1ms/step - loss: 0.8204 - accuracy: 0.6459 - val_loss: 0.8456 - val_accuracy: 0.6732\n",
            "Epoch 9/250\n",
            "52/52 [==============================] - 0s 1ms/step - loss: 0.7558 - accuracy: 0.6770 - val_loss: 0.7848 - val_accuracy: 0.6378\n",
            "Epoch 10/250\n",
            "52/52 [==============================] - 0s 1ms/step - loss: 0.8749 - accuracy: 0.6362 - val_loss: 0.7684 - val_accuracy: 0.6378\n",
            "Epoch 11/250\n",
            "52/52 [==============================] - 0s 1ms/step - loss: 0.7975 - accuracy: 0.6401 - val_loss: 0.7876 - val_accuracy: 0.6772\n",
            "Epoch 12/250\n",
            "52/52 [==============================] - 0s 2ms/step - loss: 0.7394 - accuracy: 0.6634 - val_loss: 0.7199 - val_accuracy: 0.6811\n",
            "Epoch 13/250\n",
            "52/52 [==============================] - 0s 2ms/step - loss: 0.7099 - accuracy: 0.6595 - val_loss: 0.8977 - val_accuracy: 0.6614\n",
            "Epoch 14/250\n",
            "52/52 [==============================] - 0s 2ms/step - loss: 0.7369 - accuracy: 0.6732 - val_loss: 0.8593 - val_accuracy: 0.6614\n",
            "Epoch 15/250\n",
            "52/52 [==============================] - 0s 2ms/step - loss: 0.7397 - accuracy: 0.6440 - val_loss: 0.7185 - val_accuracy: 0.6732\n",
            "Epoch 16/250\n",
            "52/52 [==============================] - 0s 1ms/step - loss: 0.6899 - accuracy: 0.6693 - val_loss: 0.7459 - val_accuracy: 0.6850\n",
            "Epoch 17/250\n",
            "52/52 [==============================] - 0s 1ms/step - loss: 0.6882 - accuracy: 0.6693 - val_loss: 0.6635 - val_accuracy: 0.6732\n",
            "Epoch 18/250\n",
            "52/52 [==============================] - 0s 2ms/step - loss: 0.7549 - accuracy: 0.6537 - val_loss: 0.9750 - val_accuracy: 0.4685\n",
            "Epoch 19/250\n",
            "52/52 [==============================] - 0s 2ms/step - loss: 0.7151 - accuracy: 0.6693 - val_loss: 0.6700 - val_accuracy: 0.6614\n",
            "Epoch 20/250\n",
            "52/52 [==============================] - 0s 1ms/step - loss: 0.7331 - accuracy: 0.6440 - val_loss: 1.2129 - val_accuracy: 0.6654\n",
            "Epoch 21/250\n",
            "52/52 [==============================] - 0s 1ms/step - loss: 0.7530 - accuracy: 0.6537 - val_loss: 0.7427 - val_accuracy: 0.6142\n",
            "Epoch 22/250\n",
            "52/52 [==============================] - 0s 2ms/step - loss: 0.6732 - accuracy: 0.6770 - val_loss: 0.6647 - val_accuracy: 0.6890\n",
            "Epoch 23/250\n",
            "52/52 [==============================] - 0s 1ms/step - loss: 0.6587 - accuracy: 0.6848 - val_loss: 0.6676 - val_accuracy: 0.6811\n",
            "Epoch 24/250\n",
            "52/52 [==============================] - 0s 2ms/step - loss: 0.6300 - accuracy: 0.6965 - val_loss: 0.6991 - val_accuracy: 0.5945\n",
            "Epoch 25/250\n",
            "52/52 [==============================] - 0s 2ms/step - loss: 0.6445 - accuracy: 0.6809 - val_loss: 0.7082 - val_accuracy: 0.6850\n",
            "Epoch 26/250\n",
            "52/52 [==============================] - 0s 2ms/step - loss: 0.6320 - accuracy: 0.6848 - val_loss: 0.6367 - val_accuracy: 0.6772\n",
            "Epoch 27/250\n",
            "52/52 [==============================] - 0s 2ms/step - loss: 0.6225 - accuracy: 0.7062 - val_loss: 0.6465 - val_accuracy: 0.6339\n",
            "Epoch 28/250\n",
            "52/52 [==============================] - 0s 1ms/step - loss: 0.6082 - accuracy: 0.7140 - val_loss: 0.6278 - val_accuracy: 0.6929\n",
            "Epoch 29/250\n",
            "52/52 [==============================] - 0s 2ms/step - loss: 0.6636 - accuracy: 0.6770 - val_loss: 0.6842 - val_accuracy: 0.6535\n",
            "Epoch 30/250\n",
            "52/52 [==============================] - 0s 2ms/step - loss: 0.6240 - accuracy: 0.6984 - val_loss: 0.6222 - val_accuracy: 0.6772\n",
            "Epoch 31/250\n",
            "52/52 [==============================] - 0s 2ms/step - loss: 0.6000 - accuracy: 0.7023 - val_loss: 0.7576 - val_accuracy: 0.6732\n",
            "Epoch 32/250\n",
            "52/52 [==============================] - 0s 1ms/step - loss: 0.6718 - accuracy: 0.6654 - val_loss: 0.7316 - val_accuracy: 0.5591\n",
            "Epoch 33/250\n",
            "52/52 [==============================] - 0s 1ms/step - loss: 0.6344 - accuracy: 0.7121 - val_loss: 0.6429 - val_accuracy: 0.6811\n",
            "Epoch 34/250\n",
            "52/52 [==============================] - 0s 2ms/step - loss: 0.6136 - accuracy: 0.7023 - val_loss: 0.6674 - val_accuracy: 0.6220\n",
            "Epoch 35/250\n",
            "52/52 [==============================] - 0s 2ms/step - loss: 0.6513 - accuracy: 0.7004 - val_loss: 0.8235 - val_accuracy: 0.6732\n",
            "Epoch 36/250\n",
            "52/52 [==============================] - 0s 1ms/step - loss: 0.6211 - accuracy: 0.7101 - val_loss: 0.6145 - val_accuracy: 0.6929\n",
            "Epoch 37/250\n",
            "52/52 [==============================] - 0s 1ms/step - loss: 0.6284 - accuracy: 0.7023 - val_loss: 0.6170 - val_accuracy: 0.7087\n",
            "Epoch 38/250\n",
            "52/52 [==============================] - 0s 1ms/step - loss: 0.5935 - accuracy: 0.7160 - val_loss: 0.6709 - val_accuracy: 0.6811\n",
            "Epoch 39/250\n",
            "52/52 [==============================] - 0s 2ms/step - loss: 0.5863 - accuracy: 0.6984 - val_loss: 0.6065 - val_accuracy: 0.6890\n",
            "Epoch 40/250\n",
            "52/52 [==============================] - 0s 2ms/step - loss: 0.5960 - accuracy: 0.6965 - val_loss: 0.6355 - val_accuracy: 0.6850\n",
            "Epoch 41/250\n",
            "52/52 [==============================] - 0s 1ms/step - loss: 0.6326 - accuracy: 0.6868 - val_loss: 0.6379 - val_accuracy: 0.6299\n",
            "Epoch 42/250\n",
            "52/52 [==============================] - 0s 1ms/step - loss: 0.6281 - accuracy: 0.6965 - val_loss: 0.6266 - val_accuracy: 0.6457\n",
            "Epoch 43/250\n",
            "52/52 [==============================] - 0s 1ms/step - loss: 0.6059 - accuracy: 0.7082 - val_loss: 0.5995 - val_accuracy: 0.7047\n",
            "Epoch 44/250\n",
            "52/52 [==============================] - 0s 2ms/step - loss: 0.6004 - accuracy: 0.7043 - val_loss: 0.6403 - val_accuracy: 0.6417\n",
            "Epoch 45/250\n",
            "52/52 [==============================] - 0s 2ms/step - loss: 0.6407 - accuracy: 0.6848 - val_loss: 0.6503 - val_accuracy: 0.6890\n",
            "Epoch 46/250\n",
            "52/52 [==============================] - 0s 1ms/step - loss: 0.6351 - accuracy: 0.6790 - val_loss: 0.6128 - val_accuracy: 0.6969\n",
            "Epoch 47/250\n",
            "52/52 [==============================] - 0s 2ms/step - loss: 0.6214 - accuracy: 0.6790 - val_loss: 0.7819 - val_accuracy: 0.6969\n",
            "Epoch 48/250\n",
            "52/52 [==============================] - 0s 2ms/step - loss: 0.6220 - accuracy: 0.7023 - val_loss: 0.5963 - val_accuracy: 0.6811\n",
            "Epoch 49/250\n",
            "52/52 [==============================] - 0s 1ms/step - loss: 0.6238 - accuracy: 0.6984 - val_loss: 0.7967 - val_accuracy: 0.6693\n",
            "Epoch 50/250\n",
            "52/52 [==============================] - 0s 1ms/step - loss: 0.6122 - accuracy: 0.7315 - val_loss: 0.6579 - val_accuracy: 0.6417\n",
            "Epoch 51/250\n",
            "52/52 [==============================] - 0s 2ms/step - loss: 0.5742 - accuracy: 0.7412 - val_loss: 0.5882 - val_accuracy: 0.6811\n",
            "Epoch 52/250\n",
            "52/52 [==============================] - 0s 2ms/step - loss: 0.6282 - accuracy: 0.6868 - val_loss: 0.7023 - val_accuracy: 0.6772\n",
            "Epoch 53/250\n",
            "52/52 [==============================] - 0s 1ms/step - loss: 0.5739 - accuracy: 0.7121 - val_loss: 0.6164 - val_accuracy: 0.6693\n",
            "Epoch 54/250\n",
            "52/52 [==============================] - 0s 2ms/step - loss: 0.6258 - accuracy: 0.6829 - val_loss: 0.5894 - val_accuracy: 0.6929\n",
            "Epoch 55/250\n",
            "52/52 [==============================] - 0s 2ms/step - loss: 0.6081 - accuracy: 0.7121 - val_loss: 0.5843 - val_accuracy: 0.7126\n",
            "Epoch 56/250\n",
            "52/52 [==============================] - 0s 1ms/step - loss: 0.6334 - accuracy: 0.7004 - val_loss: 0.5836 - val_accuracy: 0.7087\n",
            "Epoch 57/250\n",
            "52/52 [==============================] - 0s 1ms/step - loss: 0.6559 - accuracy: 0.6907 - val_loss: 0.5836 - val_accuracy: 0.7205\n",
            "Epoch 58/250\n",
            "52/52 [==============================] - 0s 2ms/step - loss: 0.6597 - accuracy: 0.6693 - val_loss: 0.5896 - val_accuracy: 0.7126\n",
            "Epoch 59/250\n",
            "52/52 [==============================] - 0s 2ms/step - loss: 0.6114 - accuracy: 0.6984 - val_loss: 0.7818 - val_accuracy: 0.5236\n",
            "Epoch 60/250\n",
            "52/52 [==============================] - 0s 1ms/step - loss: 0.6230 - accuracy: 0.7121 - val_loss: 0.5772 - val_accuracy: 0.7205\n",
            "Epoch 61/250\n",
            "52/52 [==============================] - 0s 1ms/step - loss: 0.5875 - accuracy: 0.7101 - val_loss: 0.5836 - val_accuracy: 0.7126\n",
            "Epoch 62/250\n",
            "52/52 [==============================] - 0s 1ms/step - loss: 0.5812 - accuracy: 0.7237 - val_loss: 0.6035 - val_accuracy: 0.6890\n",
            "Epoch 63/250\n",
            "52/52 [==============================] - 0s 2ms/step - loss: 0.5868 - accuracy: 0.7335 - val_loss: 0.5684 - val_accuracy: 0.7205\n",
            "Epoch 64/250\n",
            "52/52 [==============================] - 0s 1ms/step - loss: 0.6112 - accuracy: 0.6965 - val_loss: 0.5897 - val_accuracy: 0.6890\n",
            "Epoch 65/250\n",
            "52/52 [==============================] - 0s 2ms/step - loss: 0.6092 - accuracy: 0.7023 - val_loss: 0.7629 - val_accuracy: 0.5472\n",
            "Epoch 66/250\n",
            "52/52 [==============================] - 0s 2ms/step - loss: 0.5781 - accuracy: 0.7062 - val_loss: 0.6600 - val_accuracy: 0.6811\n",
            "Epoch 67/250\n",
            "52/52 [==============================] - 0s 2ms/step - loss: 0.5887 - accuracy: 0.7374 - val_loss: 0.5774 - val_accuracy: 0.7126\n",
            "Epoch 68/250\n",
            "52/52 [==============================] - 0s 1ms/step - loss: 0.5841 - accuracy: 0.6984 - val_loss: 0.6800 - val_accuracy: 0.6811\n",
            "Epoch 69/250\n",
            "52/52 [==============================] - 0s 1ms/step - loss: 0.5880 - accuracy: 0.7198 - val_loss: 0.5692 - val_accuracy: 0.7126\n",
            "Epoch 70/250\n",
            "52/52 [==============================] - 0s 2ms/step - loss: 0.5706 - accuracy: 0.7237 - val_loss: 0.6737 - val_accuracy: 0.6339\n",
            "Epoch 71/250\n",
            "52/52 [==============================] - 0s 2ms/step - loss: 0.5800 - accuracy: 0.7237 - val_loss: 0.5809 - val_accuracy: 0.7126\n",
            "Epoch 72/250\n",
            "52/52 [==============================] - 0s 2ms/step - loss: 0.5584 - accuracy: 0.7160 - val_loss: 0.5613 - val_accuracy: 0.7283\n",
            "Epoch 73/250\n",
            "52/52 [==============================] - 0s 2ms/step - loss: 0.5853 - accuracy: 0.7023 - val_loss: 0.5604 - val_accuracy: 0.7362\n",
            "Epoch 74/250\n",
            "52/52 [==============================] - 0s 2ms/step - loss: 0.6057 - accuracy: 0.7121 - val_loss: 0.6073 - val_accuracy: 0.6969\n",
            "Epoch 75/250\n",
            "52/52 [==============================] - 0s 2ms/step - loss: 0.5635 - accuracy: 0.7257 - val_loss: 0.6172 - val_accuracy: 0.6654\n",
            "Epoch 76/250\n",
            "52/52 [==============================] - 0s 1ms/step - loss: 0.5731 - accuracy: 0.6965 - val_loss: 0.5559 - val_accuracy: 0.7283\n",
            "Epoch 77/250\n",
            "52/52 [==============================] - 0s 2ms/step - loss: 0.5780 - accuracy: 0.7296 - val_loss: 0.7328 - val_accuracy: 0.6811\n",
            "Epoch 78/250\n",
            "52/52 [==============================] - 0s 1ms/step - loss: 0.5791 - accuracy: 0.7218 - val_loss: 0.6715 - val_accuracy: 0.6378\n",
            "Epoch 79/250\n",
            "52/52 [==============================] - 0s 1ms/step - loss: 0.5582 - accuracy: 0.7296 - val_loss: 0.5704 - val_accuracy: 0.6969\n",
            "Epoch 80/250\n",
            "52/52 [==============================] - 0s 1ms/step - loss: 0.5563 - accuracy: 0.7237 - val_loss: 0.5550 - val_accuracy: 0.7362\n",
            "Epoch 81/250\n",
            "52/52 [==============================] - 0s 2ms/step - loss: 0.5469 - accuracy: 0.7393 - val_loss: 0.5711 - val_accuracy: 0.7008\n",
            "Epoch 82/250\n",
            "52/52 [==============================] - 0s 2ms/step - loss: 0.5981 - accuracy: 0.7179 - val_loss: 0.5884 - val_accuracy: 0.6732\n",
            "Epoch 83/250\n",
            "52/52 [==============================] - 0s 1ms/step - loss: 0.5537 - accuracy: 0.7393 - val_loss: 0.6966 - val_accuracy: 0.6811\n",
            "Epoch 84/250\n",
            "52/52 [==============================] - 0s 1ms/step - loss: 0.6098 - accuracy: 0.7023 - val_loss: 0.7469 - val_accuracy: 0.5984\n",
            "Epoch 85/250\n",
            "52/52 [==============================] - 0s 2ms/step - loss: 0.5812 - accuracy: 0.7218 - val_loss: 0.7428 - val_accuracy: 0.6063\n",
            "Epoch 86/250\n",
            "52/52 [==============================] - 0s 2ms/step - loss: 0.5693 - accuracy: 0.7160 - val_loss: 0.5728 - val_accuracy: 0.6929\n",
            "Epoch 87/250\n",
            "52/52 [==============================] - 0s 2ms/step - loss: 0.5490 - accuracy: 0.7451 - val_loss: 0.6359 - val_accuracy: 0.6929\n",
            "Epoch 88/250\n",
            "52/52 [==============================] - 0s 2ms/step - loss: 0.5837 - accuracy: 0.7140 - val_loss: 0.6618 - val_accuracy: 0.6929\n",
            "Epoch 89/250\n",
            "52/52 [==============================] - 0s 1ms/step - loss: 0.6105 - accuracy: 0.7296 - val_loss: 0.5584 - val_accuracy: 0.7047\n",
            "Epoch 90/250\n",
            "52/52 [==============================] - 0s 1ms/step - loss: 0.5529 - accuracy: 0.7198 - val_loss: 0.6186 - val_accuracy: 0.7047\n",
            "Epoch 91/250\n",
            "52/52 [==============================] - 0s 1ms/step - loss: 0.5766 - accuracy: 0.7062 - val_loss: 0.5626 - val_accuracy: 0.7362\n",
            "Epoch 92/250\n",
            "52/52 [==============================] - 0s 2ms/step - loss: 0.5906 - accuracy: 0.7121 - val_loss: 0.5686 - val_accuracy: 0.7244\n",
            "Epoch 93/250\n",
            "52/52 [==============================] - 0s 2ms/step - loss: 0.5852 - accuracy: 0.7237 - val_loss: 0.5965 - val_accuracy: 0.7126\n",
            "Epoch 94/250\n",
            "52/52 [==============================] - 0s 2ms/step - loss: 0.5546 - accuracy: 0.7257 - val_loss: 0.5637 - val_accuracy: 0.7165\n",
            "Epoch 95/250\n",
            "52/52 [==============================] - 0s 1ms/step - loss: 0.5878 - accuracy: 0.7432 - val_loss: 0.8561 - val_accuracy: 0.4961\n",
            "Epoch 96/250\n",
            "52/52 [==============================] - 0s 2ms/step - loss: 0.6134 - accuracy: 0.7160 - val_loss: 0.6592 - val_accuracy: 0.6654\n",
            "Epoch 97/250\n",
            "52/52 [==============================] - 0s 2ms/step - loss: 0.5390 - accuracy: 0.7335 - val_loss: 0.5901 - val_accuracy: 0.7008\n",
            "Epoch 98/250\n",
            "52/52 [==============================] - 0s 1ms/step - loss: 0.5409 - accuracy: 0.7393 - val_loss: 0.5677 - val_accuracy: 0.7087\n",
            "Epoch 99/250\n",
            "52/52 [==============================] - 0s 1ms/step - loss: 0.5380 - accuracy: 0.7626 - val_loss: 0.5553 - val_accuracy: 0.7402\n",
            "Epoch 100/250\n",
            "52/52 [==============================] - 0s 1ms/step - loss: 0.5975 - accuracy: 0.7160 - val_loss: 0.9354 - val_accuracy: 0.6772\n",
            "Epoch 101/250\n",
            "52/52 [==============================] - 0s 2ms/step - loss: 0.6159 - accuracy: 0.7121 - val_loss: 0.6398 - val_accuracy: 0.6732\n",
            "Epoch 102/250\n",
            "52/52 [==============================] - 0s 1ms/step - loss: 0.5794 - accuracy: 0.7315 - val_loss: 0.5642 - val_accuracy: 0.7283\n",
            "Epoch 103/250\n",
            "52/52 [==============================] - 0s 2ms/step - loss: 0.5626 - accuracy: 0.7276 - val_loss: 0.5579 - val_accuracy: 0.7362\n",
            "Epoch 104/250\n",
            "52/52 [==============================] - 0s 2ms/step - loss: 0.5437 - accuracy: 0.7276 - val_loss: 0.7259 - val_accuracy: 0.6850\n",
            "Epoch 105/250\n",
            "52/52 [==============================] - 0s 1ms/step - loss: 0.6507 - accuracy: 0.7043 - val_loss: 0.5991 - val_accuracy: 0.6969\n",
            "Epoch 106/250\n",
            "52/52 [==============================] - 0s 1ms/step - loss: 0.5695 - accuracy: 0.7218 - val_loss: 0.5543 - val_accuracy: 0.7402\n",
            "Epoch 107/250\n",
            "52/52 [==============================] - 0s 1ms/step - loss: 0.5614 - accuracy: 0.7490 - val_loss: 0.5720 - val_accuracy: 0.7008\n",
            "Epoch 108/250\n",
            "52/52 [==============================] - 0s 1ms/step - loss: 0.5696 - accuracy: 0.7218 - val_loss: 0.6000 - val_accuracy: 0.7165\n",
            "Epoch 109/250\n",
            "52/52 [==============================] - 0s 2ms/step - loss: 0.5972 - accuracy: 0.7179 - val_loss: 0.7214 - val_accuracy: 0.6220\n",
            "Epoch 110/250\n",
            "52/52 [==============================] - 0s 2ms/step - loss: 0.6167 - accuracy: 0.7121 - val_loss: 0.6026 - val_accuracy: 0.6890\n",
            "Epoch 111/250\n",
            "52/52 [==============================] - 0s 1ms/step - loss: 0.6212 - accuracy: 0.7062 - val_loss: 0.5574 - val_accuracy: 0.7520\n",
            "Epoch 112/250\n",
            "52/52 [==============================] - 0s 2ms/step - loss: 0.5758 - accuracy: 0.7082 - val_loss: 0.5866 - val_accuracy: 0.7008\n",
            "Epoch 113/250\n",
            "52/52 [==============================] - 0s 1ms/step - loss: 0.5059 - accuracy: 0.7763 - val_loss: 0.5858 - val_accuracy: 0.7283\n",
            "Epoch 114/250\n",
            "52/52 [==============================] - 0s 2ms/step - loss: 0.5816 - accuracy: 0.7082 - val_loss: 0.6628 - val_accuracy: 0.6339\n",
            "Epoch 115/250\n",
            "52/52 [==============================] - 0s 2ms/step - loss: 0.5185 - accuracy: 0.7568 - val_loss: 0.6390 - val_accuracy: 0.6890\n",
            "Epoch 116/250\n",
            "52/52 [==============================] - 0s 2ms/step - loss: 0.5445 - accuracy: 0.7335 - val_loss: 0.6083 - val_accuracy: 0.7008\n",
            "Epoch 117/250\n",
            "52/52 [==============================] - 0s 1ms/step - loss: 0.5436 - accuracy: 0.7179 - val_loss: 0.6201 - val_accuracy: 0.7008\n",
            "Epoch 118/250\n",
            "52/52 [==============================] - 0s 2ms/step - loss: 0.5221 - accuracy: 0.7588 - val_loss: 0.5843 - val_accuracy: 0.7362\n",
            "Epoch 119/250\n",
            "52/52 [==============================] - 0s 1ms/step - loss: 0.5611 - accuracy: 0.7160 - val_loss: 0.6080 - val_accuracy: 0.6811\n",
            "Epoch 120/250\n",
            "52/52 [==============================] - 0s 2ms/step - loss: 0.5658 - accuracy: 0.7393 - val_loss: 0.5865 - val_accuracy: 0.6969\n",
            "Epoch 121/250\n",
            "52/52 [==============================] - 0s 2ms/step - loss: 0.5317 - accuracy: 0.7529 - val_loss: 0.5887 - val_accuracy: 0.7205\n",
            "Epoch 122/250\n",
            "52/52 [==============================] - 0s 2ms/step - loss: 0.5295 - accuracy: 0.7432 - val_loss: 0.6270 - val_accuracy: 0.6969\n",
            "Epoch 123/250\n",
            "52/52 [==============================] - 0s 2ms/step - loss: 0.5263 - accuracy: 0.7471 - val_loss: 0.6034 - val_accuracy: 0.6929\n",
            "Epoch 124/250\n",
            "52/52 [==============================] - 0s 1ms/step - loss: 0.5670 - accuracy: 0.7432 - val_loss: 0.7202 - val_accuracy: 0.6890\n",
            "Epoch 125/250\n",
            "52/52 [==============================] - 0s 1ms/step - loss: 0.5944 - accuracy: 0.6984 - val_loss: 0.6361 - val_accuracy: 0.6850\n",
            "Epoch 126/250\n",
            "52/52 [==============================] - 0s 1ms/step - loss: 0.5676 - accuracy: 0.7198 - val_loss: 0.5612 - val_accuracy: 0.7480\n",
            "Epoch 127/250\n",
            "52/52 [==============================] - 0s 2ms/step - loss: 0.5274 - accuracy: 0.7529 - val_loss: 0.5908 - val_accuracy: 0.7283\n",
            "Epoch 128/250\n",
            "52/52 [==============================] - 0s 2ms/step - loss: 0.5287 - accuracy: 0.7315 - val_loss: 0.5714 - val_accuracy: 0.7165\n",
            "Epoch 129/250\n",
            "52/52 [==============================] - 0s 1ms/step - loss: 0.6026 - accuracy: 0.6887 - val_loss: 0.5864 - val_accuracy: 0.7283\n",
            "Epoch 130/250\n",
            "52/52 [==============================] - 0s 2ms/step - loss: 0.5279 - accuracy: 0.7296 - val_loss: 0.5746 - val_accuracy: 0.7244\n",
            "Epoch 131/250\n",
            "52/52 [==============================] - 0s 1ms/step - loss: 0.5511 - accuracy: 0.7179 - val_loss: 0.5785 - val_accuracy: 0.7165\n",
            "Epoch 132/250\n",
            "52/52 [==============================] - 0s 2ms/step - loss: 0.5149 - accuracy: 0.7490 - val_loss: 0.6345 - val_accuracy: 0.7008\n",
            "Epoch 133/250\n",
            "52/52 [==============================] - 0s 1ms/step - loss: 0.5422 - accuracy: 0.7393 - val_loss: 0.5861 - val_accuracy: 0.7047\n",
            "Epoch 134/250\n",
            "52/52 [==============================] - 0s 2ms/step - loss: 0.5183 - accuracy: 0.7432 - val_loss: 0.6765 - val_accuracy: 0.6850\n",
            "Epoch 135/250\n",
            "52/52 [==============================] - 0s 1ms/step - loss: 0.5506 - accuracy: 0.7296 - val_loss: 0.6271 - val_accuracy: 0.7008\n",
            "Epoch 136/250\n",
            "52/52 [==============================] - 0s 2ms/step - loss: 0.5542 - accuracy: 0.7140 - val_loss: 0.5556 - val_accuracy: 0.7441\n",
            "Epoch 137/250\n",
            "52/52 [==============================] - 0s 2ms/step - loss: 0.5414 - accuracy: 0.7296 - val_loss: 0.8069 - val_accuracy: 0.5433\n",
            "Epoch 138/250\n",
            "52/52 [==============================] - 0s 2ms/step - loss: 0.5876 - accuracy: 0.7004 - val_loss: 0.5725 - val_accuracy: 0.7323\n",
            "Epoch 139/250\n",
            "52/52 [==============================] - 0s 1ms/step - loss: 0.5322 - accuracy: 0.7237 - val_loss: 0.6004 - val_accuracy: 0.7008\n",
            "Epoch 140/250\n",
            "52/52 [==============================] - 0s 2ms/step - loss: 0.5152 - accuracy: 0.7471 - val_loss: 0.7491 - val_accuracy: 0.6063\n",
            "Epoch 141/250\n",
            "52/52 [==============================] - 0s 1ms/step - loss: 0.5674 - accuracy: 0.7082 - val_loss: 0.6172 - val_accuracy: 0.6929\n",
            "Epoch 142/250\n",
            "52/52 [==============================] - 0s 2ms/step - loss: 0.5218 - accuracy: 0.7374 - val_loss: 0.5615 - val_accuracy: 0.7283\n",
            "Epoch 143/250\n",
            "52/52 [==============================] - 0s 1ms/step - loss: 0.5820 - accuracy: 0.7198 - val_loss: 0.6071 - val_accuracy: 0.7008\n",
            "Epoch 144/250\n",
            "52/52 [==============================] - 0s 2ms/step - loss: 0.5553 - accuracy: 0.7179 - val_loss: 0.5860 - val_accuracy: 0.7244\n",
            "Epoch 145/250\n",
            "52/52 [==============================] - 0s 1ms/step - loss: 0.5391 - accuracy: 0.7471 - val_loss: 0.6413 - val_accuracy: 0.6811\n",
            "Epoch 146/250\n",
            "52/52 [==============================] - 0s 2ms/step - loss: 0.5530 - accuracy: 0.7432 - val_loss: 0.5777 - val_accuracy: 0.7323\n",
            "Epoch 147/250\n",
            "52/52 [==============================] - 0s 2ms/step - loss: 0.5170 - accuracy: 0.7588 - val_loss: 0.6185 - val_accuracy: 0.7047\n",
            "Epoch 148/250\n",
            "52/52 [==============================] - 0s 1ms/step - loss: 0.5592 - accuracy: 0.7296 - val_loss: 0.6476 - val_accuracy: 0.6929\n",
            "Epoch 149/250\n",
            "52/52 [==============================] - 0s 1ms/step - loss: 0.5307 - accuracy: 0.7354 - val_loss: 0.5596 - val_accuracy: 0.7362\n",
            "Epoch 150/250\n",
            "52/52 [==============================] - 0s 1ms/step - loss: 0.5190 - accuracy: 0.7412 - val_loss: 0.5643 - val_accuracy: 0.7441\n",
            "Epoch 151/250\n",
            "52/52 [==============================] - 0s 2ms/step - loss: 0.5574 - accuracy: 0.7276 - val_loss: 0.6350 - val_accuracy: 0.6890\n",
            "Epoch 152/250\n",
            "52/52 [==============================] - 0s 1ms/step - loss: 0.5886 - accuracy: 0.7023 - val_loss: 0.6009 - val_accuracy: 0.7087\n",
            "Epoch 153/250\n",
            "52/52 [==============================] - 0s 2ms/step - loss: 0.5272 - accuracy: 0.7412 - val_loss: 0.6080 - val_accuracy: 0.7205\n",
            "Epoch 154/250\n",
            "52/52 [==============================] - 0s 2ms/step - loss: 0.5527 - accuracy: 0.7335 - val_loss: 0.7092 - val_accuracy: 0.6063\n",
            "Epoch 155/250\n",
            "52/52 [==============================] - 0s 3ms/step - loss: 0.5552 - accuracy: 0.7432 - val_loss: 0.5603 - val_accuracy: 0.7441\n",
            "Epoch 156/250\n",
            "52/52 [==============================] - 0s 2ms/step - loss: 0.5181 - accuracy: 0.7412 - val_loss: 0.5929 - val_accuracy: 0.7283\n",
            "Epoch 157/250\n",
            "52/52 [==============================] - 0s 2ms/step - loss: 0.6018 - accuracy: 0.7140 - val_loss: 0.5568 - val_accuracy: 0.7480\n",
            "Epoch 158/250\n",
            "52/52 [==============================] - 0s 1ms/step - loss: 0.5383 - accuracy: 0.7218 - val_loss: 0.5719 - val_accuracy: 0.7441\n",
            "Epoch 159/250\n",
            "52/52 [==============================] - 0s 1ms/step - loss: 0.4995 - accuracy: 0.7568 - val_loss: 0.5550 - val_accuracy: 0.7559\n",
            "Epoch 160/250\n",
            "52/52 [==============================] - 0s 2ms/step - loss: 0.5315 - accuracy: 0.7432 - val_loss: 0.6945 - val_accuracy: 0.7126\n",
            "Epoch 161/250\n",
            "52/52 [==============================] - 0s 2ms/step - loss: 0.5984 - accuracy: 0.7179 - val_loss: 0.7847 - val_accuracy: 0.6811\n",
            "Epoch 162/250\n",
            "52/52 [==============================] - 0s 2ms/step - loss: 0.5737 - accuracy: 0.7101 - val_loss: 0.5982 - val_accuracy: 0.7008\n",
            "Epoch 163/250\n",
            "52/52 [==============================] - 0s 1ms/step - loss: 0.5288 - accuracy: 0.7315 - val_loss: 0.6110 - val_accuracy: 0.7047\n",
            "Epoch 164/250\n",
            "52/52 [==============================] - 0s 1ms/step - loss: 0.5232 - accuracy: 0.7237 - val_loss: 0.5875 - val_accuracy: 0.6969\n",
            "Epoch 165/250\n",
            "52/52 [==============================] - 0s 2ms/step - loss: 0.5376 - accuracy: 0.7257 - val_loss: 0.5966 - val_accuracy: 0.7283\n",
            "Epoch 166/250\n",
            "52/52 [==============================] - 0s 2ms/step - loss: 0.5382 - accuracy: 0.7451 - val_loss: 0.5565 - val_accuracy: 0.7598\n",
            "Epoch 167/250\n",
            "52/52 [==============================] - 0s 2ms/step - loss: 0.5152 - accuracy: 0.7549 - val_loss: 0.5983 - val_accuracy: 0.7126\n",
            "Epoch 168/250\n",
            "52/52 [==============================] - 0s 2ms/step - loss: 0.5306 - accuracy: 0.7276 - val_loss: 0.7481 - val_accuracy: 0.6732\n",
            "Epoch 169/250\n",
            "52/52 [==============================] - 0s 1ms/step - loss: 0.6609 - accuracy: 0.6770 - val_loss: 0.5621 - val_accuracy: 0.7441\n",
            "Epoch 170/250\n",
            "52/52 [==============================] - 0s 2ms/step - loss: 0.5153 - accuracy: 0.7549 - val_loss: 0.5945 - val_accuracy: 0.7323\n",
            "Epoch 171/250\n",
            "52/52 [==============================] - 0s 2ms/step - loss: 0.5268 - accuracy: 0.7412 - val_loss: 0.5735 - val_accuracy: 0.7362\n",
            "Epoch 172/250\n",
            "52/52 [==============================] - 0s 2ms/step - loss: 0.5351 - accuracy: 0.7315 - val_loss: 1.0872 - val_accuracy: 0.5315\n",
            "Epoch 173/250\n",
            "52/52 [==============================] - 0s 2ms/step - loss: 0.5592 - accuracy: 0.7276 - val_loss: 0.5396 - val_accuracy: 0.7402\n",
            "Epoch 174/250\n",
            "52/52 [==============================] - 0s 2ms/step - loss: 0.5000 - accuracy: 0.7549 - val_loss: 0.5583 - val_accuracy: 0.7480\n",
            "Epoch 175/250\n",
            "52/52 [==============================] - 0s 2ms/step - loss: 0.4918 - accuracy: 0.7588 - val_loss: 0.6787 - val_accuracy: 0.6654\n",
            "Epoch 176/250\n",
            "52/52 [==============================] - 0s 2ms/step - loss: 0.5427 - accuracy: 0.7257 - val_loss: 0.6210 - val_accuracy: 0.7047\n",
            "Epoch 177/250\n",
            "52/52 [==============================] - 0s 2ms/step - loss: 0.6049 - accuracy: 0.7062 - val_loss: 0.5735 - val_accuracy: 0.7323\n",
            "Epoch 178/250\n",
            "52/52 [==============================] - 0s 1ms/step - loss: 0.5112 - accuracy: 0.7588 - val_loss: 0.5674 - val_accuracy: 0.7559\n",
            "Epoch 179/250\n",
            "52/52 [==============================] - 0s 2ms/step - loss: 0.5120 - accuracy: 0.7607 - val_loss: 0.6047 - val_accuracy: 0.7126\n",
            "Epoch 180/250\n",
            "52/52 [==============================] - 0s 2ms/step - loss: 0.4922 - accuracy: 0.7665 - val_loss: 0.5774 - val_accuracy: 0.7323\n",
            "Epoch 181/250\n",
            "52/52 [==============================] - 0s 1ms/step - loss: 0.5066 - accuracy: 0.7743 - val_loss: 0.6901 - val_accuracy: 0.6614\n",
            "Epoch 182/250\n",
            "52/52 [==============================] - 0s 2ms/step - loss: 0.5246 - accuracy: 0.7412 - val_loss: 0.5564 - val_accuracy: 0.7559\n",
            "Epoch 183/250\n",
            "52/52 [==============================] - 0s 1ms/step - loss: 0.5154 - accuracy: 0.7763 - val_loss: 0.6305 - val_accuracy: 0.7008\n",
            "Epoch 184/250\n",
            "52/52 [==============================] - 0s 2ms/step - loss: 0.5860 - accuracy: 0.7121 - val_loss: 0.5635 - val_accuracy: 0.7362\n",
            "Epoch 185/250\n",
            "52/52 [==============================] - 0s 1ms/step - loss: 0.5209 - accuracy: 0.7490 - val_loss: 0.6709 - val_accuracy: 0.7126\n",
            "Epoch 186/250\n",
            "52/52 [==============================] - 0s 2ms/step - loss: 0.5425 - accuracy: 0.7471 - val_loss: 0.5888 - val_accuracy: 0.7165\n",
            "Epoch 187/250\n",
            "52/52 [==============================] - 0s 1ms/step - loss: 0.5885 - accuracy: 0.7179 - val_loss: 0.5959 - val_accuracy: 0.6969\n",
            "Epoch 188/250\n",
            "52/52 [==============================] - 0s 1ms/step - loss: 0.5200 - accuracy: 0.7471 - val_loss: 0.5745 - val_accuracy: 0.7087\n",
            "Epoch 189/250\n",
            "52/52 [==============================] - 0s 2ms/step - loss: 0.4987 - accuracy: 0.7588 - val_loss: 0.6077 - val_accuracy: 0.7047\n",
            "Epoch 190/250\n",
            "52/52 [==============================] - 0s 1ms/step - loss: 0.5171 - accuracy: 0.7296 - val_loss: 0.7409 - val_accuracy: 0.6772\n",
            "Epoch 191/250\n",
            "52/52 [==============================] - 0s 1ms/step - loss: 0.5996 - accuracy: 0.7062 - val_loss: 0.5779 - val_accuracy: 0.7441\n",
            "Epoch 192/250\n",
            "52/52 [==============================] - 0s 2ms/step - loss: 0.5151 - accuracy: 0.7432 - val_loss: 0.5848 - val_accuracy: 0.7323\n",
            "Epoch 193/250\n",
            "52/52 [==============================] - 0s 1ms/step - loss: 0.5563 - accuracy: 0.7432 - val_loss: 0.5690 - val_accuracy: 0.7441\n",
            "Epoch 194/250\n",
            "52/52 [==============================] - 0s 2ms/step - loss: 0.5811 - accuracy: 0.7276 - val_loss: 0.5803 - val_accuracy: 0.7362\n",
            "Epoch 195/250\n",
            "52/52 [==============================] - 0s 2ms/step - loss: 0.5261 - accuracy: 0.7335 - val_loss: 0.5978 - val_accuracy: 0.7323\n",
            "Epoch 196/250\n",
            "52/52 [==============================] - 0s 2ms/step - loss: 0.5351 - accuracy: 0.7237 - val_loss: 0.5748 - val_accuracy: 0.7480\n",
            "Epoch 197/250\n",
            "52/52 [==============================] - 0s 2ms/step - loss: 0.5208 - accuracy: 0.7393 - val_loss: 0.5672 - val_accuracy: 0.7323\n",
            "Epoch 198/250\n",
            "52/52 [==============================] - 0s 2ms/step - loss: 0.5318 - accuracy: 0.7296 - val_loss: 0.6388 - val_accuracy: 0.7126\n",
            "Epoch 199/250\n",
            "52/52 [==============================] - 0s 2ms/step - loss: 0.5704 - accuracy: 0.7237 - val_loss: 0.5566 - val_accuracy: 0.7520\n",
            "Epoch 200/250\n",
            "52/52 [==============================] - 0s 2ms/step - loss: 0.5543 - accuracy: 0.7354 - val_loss: 0.5769 - val_accuracy: 0.7402\n",
            "Epoch 201/250\n",
            "52/52 [==============================] - 0s 2ms/step - loss: 0.5759 - accuracy: 0.7140 - val_loss: 0.5529 - val_accuracy: 0.7520\n",
            "Epoch 202/250\n",
            "52/52 [==============================] - 0s 2ms/step - loss: 0.5331 - accuracy: 0.7354 - val_loss: 0.7419 - val_accuracy: 0.6496\n",
            "Epoch 203/250\n",
            "52/52 [==============================] - 0s 1ms/step - loss: 0.5018 - accuracy: 0.7763 - val_loss: 0.6380 - val_accuracy: 0.6811\n",
            "Epoch 204/250\n",
            "52/52 [==============================] - 0s 2ms/step - loss: 0.5966 - accuracy: 0.7023 - val_loss: 0.6612 - val_accuracy: 0.6614\n",
            "Epoch 205/250\n",
            "52/52 [==============================] - 0s 1ms/step - loss: 0.5242 - accuracy: 0.7685 - val_loss: 0.5759 - val_accuracy: 0.7362\n",
            "Epoch 206/250\n",
            "52/52 [==============================] - 0s 2ms/step - loss: 0.5495 - accuracy: 0.7393 - val_loss: 0.6198 - val_accuracy: 0.7087\n",
            "Epoch 207/250\n",
            "52/52 [==============================] - 0s 1ms/step - loss: 0.6029 - accuracy: 0.7121 - val_loss: 0.7332 - val_accuracy: 0.6850\n",
            "Epoch 208/250\n",
            "52/52 [==============================] - 0s 1ms/step - loss: 0.5482 - accuracy: 0.7315 - val_loss: 0.7377 - val_accuracy: 0.6772\n",
            "Epoch 209/250\n",
            "52/52 [==============================] - 0s 2ms/step - loss: 0.5352 - accuracy: 0.7412 - val_loss: 0.5935 - val_accuracy: 0.7205\n",
            "Epoch 210/250\n",
            "52/52 [==============================] - 0s 2ms/step - loss: 0.5642 - accuracy: 0.7296 - val_loss: 0.5674 - val_accuracy: 0.7441\n",
            "Epoch 211/250\n",
            "52/52 [==============================] - 0s 2ms/step - loss: 0.5224 - accuracy: 0.7510 - val_loss: 0.6570 - val_accuracy: 0.6850\n",
            "Epoch 212/250\n",
            "52/52 [==============================] - 0s 2ms/step - loss: 0.4916 - accuracy: 0.7626 - val_loss: 0.6270 - val_accuracy: 0.6969\n",
            "Epoch 213/250\n",
            "52/52 [==============================] - 0s 1ms/step - loss: 0.4899 - accuracy: 0.7704 - val_loss: 0.5738 - val_accuracy: 0.7283\n",
            "Epoch 214/250\n",
            "52/52 [==============================] - 0s 2ms/step - loss: 0.4949 - accuracy: 0.7549 - val_loss: 0.5723 - val_accuracy: 0.7480\n",
            "Epoch 215/250\n",
            "52/52 [==============================] - 0s 1ms/step - loss: 0.5037 - accuracy: 0.7665 - val_loss: 0.5580 - val_accuracy: 0.7480\n",
            "Epoch 216/250\n",
            "52/52 [==============================] - 0s 1ms/step - loss: 0.5114 - accuracy: 0.7490 - val_loss: 0.5963 - val_accuracy: 0.7244\n",
            "Epoch 217/250\n",
            "52/52 [==============================] - 0s 2ms/step - loss: 0.4901 - accuracy: 0.7685 - val_loss: 0.5805 - val_accuracy: 0.7323\n",
            "Epoch 218/250\n",
            "52/52 [==============================] - 0s 2ms/step - loss: 0.4974 - accuracy: 0.7471 - val_loss: 0.5901 - val_accuracy: 0.7480\n",
            "Epoch 219/250\n",
            "52/52 [==============================] - 0s 2ms/step - loss: 0.5250 - accuracy: 0.7510 - val_loss: 0.5426 - val_accuracy: 0.7756\n",
            "Epoch 220/250\n",
            "52/52 [==============================] - 0s 2ms/step - loss: 0.5316 - accuracy: 0.7451 - val_loss: 0.5641 - val_accuracy: 0.7480\n",
            "Epoch 221/250\n",
            "52/52 [==============================] - 0s 2ms/step - loss: 0.5356 - accuracy: 0.7218 - val_loss: 0.5712 - val_accuracy: 0.7441\n",
            "Epoch 222/250\n",
            "52/52 [==============================] - 0s 2ms/step - loss: 0.5032 - accuracy: 0.7646 - val_loss: 0.5885 - val_accuracy: 0.7480\n",
            "Epoch 223/250\n",
            "52/52 [==============================] - 0s 2ms/step - loss: 0.5391 - accuracy: 0.7354 - val_loss: 0.5568 - val_accuracy: 0.7480\n",
            "Epoch 224/250\n",
            "52/52 [==============================] - 0s 2ms/step - loss: 0.5142 - accuracy: 0.7412 - val_loss: 0.6374 - val_accuracy: 0.6929\n",
            "Epoch 225/250\n",
            "52/52 [==============================] - 0s 2ms/step - loss: 0.5432 - accuracy: 0.7510 - val_loss: 0.5758 - val_accuracy: 0.7283\n",
            "Epoch 226/250\n",
            "52/52 [==============================] - 0s 2ms/step - loss: 0.5258 - accuracy: 0.7471 - val_loss: 0.6024 - val_accuracy: 0.7126\n",
            "Epoch 227/250\n",
            "52/52 [==============================] - 0s 2ms/step - loss: 0.5022 - accuracy: 0.7393 - val_loss: 0.5946 - val_accuracy: 0.7323\n",
            "Epoch 228/250\n",
            "52/52 [==============================] - 0s 2ms/step - loss: 0.4991 - accuracy: 0.7471 - val_loss: 0.5846 - val_accuracy: 0.7244\n",
            "Epoch 229/250\n",
            "52/52 [==============================] - 0s 2ms/step - loss: 0.5036 - accuracy: 0.7607 - val_loss: 0.5733 - val_accuracy: 0.7520\n",
            "Epoch 230/250\n",
            "52/52 [==============================] - 0s 2ms/step - loss: 0.5056 - accuracy: 0.7568 - val_loss: 0.5983 - val_accuracy: 0.7205\n",
            "Epoch 231/250\n",
            "52/52 [==============================] - 0s 2ms/step - loss: 0.5028 - accuracy: 0.7743 - val_loss: 0.5649 - val_accuracy: 0.7638\n",
            "Epoch 232/250\n",
            "52/52 [==============================] - 0s 2ms/step - loss: 0.5340 - accuracy: 0.7510 - val_loss: 0.6499 - val_accuracy: 0.6929\n",
            "Epoch 233/250\n",
            "52/52 [==============================] - 0s 3ms/step - loss: 0.5046 - accuracy: 0.7529 - val_loss: 0.6138 - val_accuracy: 0.7126\n",
            "Epoch 234/250\n",
            "52/52 [==============================] - 0s 2ms/step - loss: 0.5476 - accuracy: 0.7432 - val_loss: 0.5511 - val_accuracy: 0.7717\n",
            "Epoch 235/250\n",
            "52/52 [==============================] - 0s 2ms/step - loss: 0.5063 - accuracy: 0.7471 - val_loss: 0.5494 - val_accuracy: 0.7480\n",
            "Epoch 236/250\n",
            "52/52 [==============================] - 0s 2ms/step - loss: 0.4951 - accuracy: 0.7549 - val_loss: 0.5984 - val_accuracy: 0.7165\n",
            "Epoch 237/250\n",
            "52/52 [==============================] - 0s 1ms/step - loss: 0.5044 - accuracy: 0.7549 - val_loss: 0.5631 - val_accuracy: 0.7480\n",
            "Epoch 238/250\n",
            "52/52 [==============================] - 0s 2ms/step - loss: 0.5814 - accuracy: 0.7354 - val_loss: 0.5500 - val_accuracy: 0.7598\n",
            "Epoch 239/250\n",
            "52/52 [==============================] - 0s 2ms/step - loss: 0.4832 - accuracy: 0.7821 - val_loss: 0.5665 - val_accuracy: 0.7441\n",
            "Epoch 240/250\n",
            "52/52 [==============================] - 0s 2ms/step - loss: 0.4855 - accuracy: 0.7802 - val_loss: 0.6627 - val_accuracy: 0.6535\n",
            "Epoch 241/250\n",
            "52/52 [==============================] - 0s 2ms/step - loss: 0.5536 - accuracy: 0.7393 - val_loss: 0.7898 - val_accuracy: 0.5945\n",
            "Epoch 242/250\n",
            "52/52 [==============================] - 0s 1ms/step - loss: 0.5677 - accuracy: 0.7393 - val_loss: 0.5625 - val_accuracy: 0.7638\n",
            "Epoch 243/250\n",
            "52/52 [==============================] - 0s 2ms/step - loss: 0.4859 - accuracy: 0.7646 - val_loss: 0.5631 - val_accuracy: 0.7598\n",
            "Epoch 244/250\n",
            "52/52 [==============================] - 0s 2ms/step - loss: 0.4871 - accuracy: 0.7374 - val_loss: 0.5481 - val_accuracy: 0.7717\n",
            "Epoch 245/250\n",
            "52/52 [==============================] - 0s 2ms/step - loss: 0.4916 - accuracy: 0.7607 - val_loss: 0.6711 - val_accuracy: 0.6693\n",
            "Epoch 246/250\n",
            "52/52 [==============================] - 0s 2ms/step - loss: 0.5083 - accuracy: 0.7860 - val_loss: 0.5597 - val_accuracy: 0.7520\n",
            "Epoch 247/250\n",
            "52/52 [==============================] - 0s 2ms/step - loss: 0.4884 - accuracy: 0.7704 - val_loss: 0.5508 - val_accuracy: 0.7756\n",
            "Epoch 248/250\n",
            "52/52 [==============================] - 0s 2ms/step - loss: 0.4941 - accuracy: 0.7743 - val_loss: 0.6391 - val_accuracy: 0.7087\n",
            "Epoch 249/250\n",
            "52/52 [==============================] - 0s 2ms/step - loss: 0.5264 - accuracy: 0.7393 - val_loss: 0.5523 - val_accuracy: 0.7441\n",
            "Epoch 250/250\n",
            "52/52 [==============================] - 0s 2ms/step - loss: 0.4860 - accuracy: 0.7782 - val_loss: 0.8224 - val_accuracy: 0.5945\n"
          ]
        }
      ]
    },
    {
      "cell_type": "code",
      "metadata": {
        "colab": {
          "base_uri": "https://localhost:8080/"
        },
        "id": "QDxQes17iOeC",
        "outputId": "2af2a6a1-435a-492a-956a-65cbc07eea29"
      },
      "source": [
        "# evaluate the model\n",
        "scores = model.evaluate(X, Y)\n",
        "print(\"%s: %.2f%%\" % (model.metrics_names[1], scores[1]*100))"
      ],
      "execution_count": 10,
      "outputs": [
        {
          "output_type": "stream",
          "name": "stdout",
          "text": [
            "24/24 [==============================] - 0s 1ms/step - loss: 0.7226 - accuracy: 0.6510\n",
            "accuracy: 65.10%\n"
          ]
        }
      ]
    },
    {
      "cell_type": "code",
      "metadata": {
        "colab": {
          "base_uri": "https://localhost:8080/"
        },
        "id": "qXJjG0hyiOeC",
        "outputId": "028d9703-9955-41df-db10-b829558714e8"
      },
      "source": [
        "# Visualize training history\n",
        "\n",
        "# list all data in history\n",
        "history.history.keys()\n",
        "\n"
      ],
      "execution_count": 11,
      "outputs": [
        {
          "output_type": "execute_result",
          "data": {
            "text/plain": [
              "dict_keys(['loss', 'accuracy', 'val_loss', 'val_accuracy'])"
            ]
          },
          "metadata": {},
          "execution_count": 11
        }
      ]
    },
    {
      "cell_type": "code",
      "metadata": {
        "colab": {
          "base_uri": "https://localhost:8080/",
          "height": 573
        },
        "id": "rg48aQ4ziOeC",
        "outputId": "36e1e210-7e4f-4194-8f20-7bb87692d875"
      },
      "source": [
        "# summarize history for accuracy\n",
        "import matplotlib.pyplot as plt\n",
        "plt.plot(history.history['accuracy'])\n",
        "plt.plot(history.history['val_accuracy'])\n",
        "plt.title('model accuracy')\n",
        "plt.ylabel('accuracy')\n",
        "plt.xlabel('epoch')\n",
        "plt.legend(['train', 'test'], loc='upper left')\n",
        "plt.show()\n",
        "# summarize history for loss\n",
        "plt.plot(history.history['loss'])\n",
        "plt.plot(history.history['val_loss'])\n",
        "plt.title('model loss')\n",
        "plt.ylabel('loss')\n",
        "plt.xlabel('epoch')\n",
        "plt.legend(['train', 'test'], loc='upper left')\n",
        "plt.show()\n"
      ],
      "execution_count": 12,
      "outputs": [
        {
          "output_type": "display_data",
          "data": {
            "image/png": "[encoded data removed]",
            "text/plain": [
              "<Figure size 432x288 with 1 Axes>"
            ]
          },
          "metadata": {
            "needs_background": "light"
          }
        },
        {
          "output_type": "display_data",
          "data": {
            "image/png": "[encoded data removed]",
            "text/plain": [
              "<Figure size 432x288 with 1 Axes>"
            ]
          },
          "metadata": {
            "needs_background": "light"
          }
        }
      ]
    },
    {
      "cell_type": "code",
      "metadata": {
        "id": "6e57Dg0-iOeD"
      },
      "source": [
        ""
      ],
      "execution_count": null,
      "outputs": []
    }
  ]
}